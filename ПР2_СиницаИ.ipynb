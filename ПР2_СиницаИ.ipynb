{
  "nbformat": 4,
  "nbformat_minor": 0,
  "metadata": {
    "colab": {
      "provenance": [],
      "authorship_tag": "ABX9TyPnqI89XRg5Pe3T2Ip6j8ok",
      "include_colab_link": true
    },
    "kernelspec": {
      "name": "python3",
      "display_name": "Python 3"
    },
    "language_info": {
      "name": "python"
    }
  },
  "cells": [
    {
      "cell_type": "markdown",
      "metadata": {
        "id": "view-in-github",
        "colab_type": "text"
      },
      "source": [
        "<a href=\"https://colab.research.google.com/github/iraidaantropova/probability_theory/blob/main/%D0%9F%D0%A02_%D0%A1%D0%B8%D0%BD%D0%B8%D1%86%D0%B0%D0%98.ipynb\" target=\"_parent\"><img src=\"https://colab.research.google.com/assets/colab-badge.svg\" alt=\"Open In Colab\"/></a>"
      ]
    },
    {
      "cell_type": "markdown",
      "source": [
        "Задача 1\n",
        "\n",
        "Вероятность того, что стрелок попадет в мишень, выстрелив один раз, равна 0.8. Стрелок выстрелил 100 раз. Найдите вероятность того, что стрелок попадет в цель ровно 85 раз.\n",
        "\n"
      ],
      "metadata": {
        "id": "UVhpq4AI30du"
      }
    },
    {
      "cell_type": "markdown",
      "source": [
        "Для решения задачи воспользуемся формулой Бернулли: \n",
        "n (количество выстрелов) =100, k = 85 (количество попаданий), p (вероятность попадания) = 0,8\n",
        "\n",
        "P = (100!/85!*(100-85)!)*0.8^85*0.2^15"
      ],
      "metadata": {
        "id": "d45ogQRt37HV"
      }
    },
    {
      "cell_type": "code",
      "source": [
        "from math import factorial, exp\n",
        "def bernulli(n, k, p):\n",
        "    comb=factorial(n)/(factorial(k)*factorial(n-k))\n",
        "    return comb*(p**k)*(1-p)**(n-k)"
      ],
      "metadata": {
        "id": "Tng7-zYF4Y_l"
      },
      "execution_count": 1,
      "outputs": []
    },
    {
      "cell_type": "code",
      "source": [
        "print(f'P = {bernulli(100,85,0.8): .4f}')"
      ],
      "metadata": {
        "colab": {
          "base_uri": "https://localhost:8080/"
        },
        "id": "BhjcNAJb594r",
        "outputId": "c2b06eca-4de2-4dee-aea3-178daf4f1119"
      },
      "execution_count": 2,
      "outputs": [
        {
          "output_type": "stream",
          "name": "stdout",
          "text": [
            "P =  0.0481\n"
          ]
        }
      ]
    },
    {
      "cell_type": "markdown",
      "source": [
        "Вероятность попадания стрелком в цель 85 раз = 0,0481*100%= 4,81%\n"
      ],
      "metadata": {
        "id": "Uv6-f7Pr6O4M"
      }
    },
    {
      "cell_type": "markdown",
      "source": [
        "Задача 2\n",
        "\n",
        "Вероятность того, что лампочка перегорит в течение первого дня эксплуатации, равна 0.0004. В жилом комплексе после ремонта в один день включили 5000 новых лампочек. \n",
        "\n",
        "Какова вероятность, что ни одна из них не перегорит в первый день? Какова вероятность, что перегорят ровно две?"
      ],
      "metadata": {
        "id": "yWydAV8t6Bnc"
      }
    },
    {
      "cell_type": "markdown",
      "source": [
        "Если проводится большое количество испытаний  n  и при этом вероятность  p  появления события  A  в отдельном испытании мала, применяют формулу Пуассона для вычисления вероятности того, что событие произойдет  m  раз в  n  испытаниях\n"
      ],
      "metadata": {
        "id": "HJ8xvvS37KTk"
      }
    },
    {
      "cell_type": "code",
      "source": [
        "def poisson_distr(m,p,n):\n",
        "    lamb=p*n\n",
        "    return exp(-lamb)*(lamb**m)/factorial(m)"
      ],
      "metadata": {
        "id": "wFszf4ii7-lh"
      },
      "execution_count": 4,
      "outputs": []
    },
    {
      "cell_type": "markdown",
      "source": [
        "1. по условию задачи, вероятность того,что лампочка перегорит 0,0004, а m =0"
      ],
      "metadata": {
        "id": "CAvUTpb58QkG"
      }
    },
    {
      "cell_type": "code",
      "source": [
        "print(f'P = {poisson_distr(0,0.0004,5000): .4f}')"
      ],
      "metadata": {
        "colab": {
          "base_uri": "https://localhost:8080/"
        },
        "id": "zGXyXuLC8inY",
        "outputId": "ad32d21a-310b-4651-f446-4d3b5c44d98d"
      },
      "execution_count": 5,
      "outputs": [
        {
          "output_type": "stream",
          "name": "stdout",
          "text": [
            "P =  0.1353\n"
          ]
        }
      ]
    },
    {
      "cell_type": "markdown",
      "source": [
        "Вероятность того, что ни одна лампочка не перегорит в первый день равна 0,1353*100%=13,53%\n"
      ],
      "metadata": {
        "id": "syBZWGMp8oQE"
      }
    },
    {
      "cell_type": "markdown",
      "source": [
        "2. по условию задачи, вероятность того,что лампочка перегорит 0,0004, а m =2\n"
      ],
      "metadata": {
        "id": "-swz_Si482_t"
      }
    },
    {
      "cell_type": "code",
      "source": [
        "print(f'P = {poisson_distr(2,0.0004,5000): .4f}')"
      ],
      "metadata": {
        "colab": {
          "base_uri": "https://localhost:8080/"
        },
        "id": "UV_TyVCM9Itl",
        "outputId": "e7f7c820-2a31-4a8f-faf7-46e5822b272f"
      },
      "execution_count": 6,
      "outputs": [
        {
          "output_type": "stream",
          "name": "stdout",
          "text": [
            "P =  0.2707\n"
          ]
        }
      ]
    },
    {
      "cell_type": "markdown",
      "source": [
        "Вероятность того, что в первый день перегорят 2 лампочки из 5000 равна 0,2707*100%=27,07%\n"
      ],
      "metadata": {
        "id": "s8Uqkp5n9P1U"
      }
    },
    {
      "cell_type": "markdown",
      "source": [
        "Задача 3\n",
        "\n",
        "Монету подбросили 144 раза. Какова вероятность, что орел выпадет ровно 70 раз?"
      ],
      "metadata": {
        "id": "-gBZMCTO6jol"
      }
    },
    {
      "cell_type": "markdown",
      "source": [
        "Количество бросков (n) = 144, количество положительных исходов (выпадет орел) =70, вероятность выпадения орла в каждом броске одинакова и равна (p) 0.5\n",
        "Используя формулу Бернулли, определяем вероятность выпадения орла 70 раз:\n"
      ],
      "metadata": {
        "id": "g7_vtMH-6pFU"
      }
    },
    {
      "cell_type": "code",
      "source": [
        "print(f'P = {bernulli(144,70,0.5): .4f}')"
      ],
      "metadata": {
        "colab": {
          "base_uri": "https://localhost:8080/"
        },
        "id": "xMV7PDDP62jG",
        "outputId": "dd494e00-22e9-4656-bab6-0c18161f7c71"
      },
      "execution_count": 3,
      "outputs": [
        {
          "output_type": "stream",
          "name": "stdout",
          "text": [
            "P =  0.0628\n"
          ]
        }
      ]
    },
    {
      "cell_type": "markdown",
      "source": [
        "Вероятность выпадения орла в количестве 70 раз равна 0,0628*100%=6,28%"
      ],
      "metadata": {
        "id": "BmbHF9NL67GK"
      }
    },
    {
      "cell_type": "markdown",
      "source": [
        "Задача 4\n",
        "\n",
        "В первом ящике находится 10 мячей, из которых 7 - белые. Во втором ящике - 11 мячей, из которых 9 белых. Из каждого ящика вытаскивают случайным образом по два мяча. \n",
        "1. Какова вероятность того, что все мячи белые? "
      ],
      "metadata": {
        "id": "3r2p5aXP9ht2"
      }
    },
    {
      "cell_type": "markdown",
      "source": [
        "Для решения данной задачи подсчитаем общее число элементарных исходов при вытаскивании мячей:\n",
        "Для первой корзины это n1 = количество сочетаний из 10 мячей по 2\n",
        "\n",
        "Для второй - это n2 - количество сочетаний из 11 мячей по 2\n",
        "\n",
        "Напишем функцию, для подсчёта количества комбинаций:"
      ],
      "metadata": {
        "id": "ifhsEnrI-2Vt"
      }
    },
    {
      "cell_type": "code",
      "source": [
        "def combinations(n, k):\n",
        "    return int(factorial(n) / (factorial(k) * factorial(n - k)))"
      ],
      "metadata": {
        "id": "BWnAECQy_IQk"
      },
      "execution_count": 7,
      "outputs": []
    },
    {
      "cell_type": "code",
      "source": [
        "n1=combinations(10,2)\n",
        "n2=combinations(11,2)\n",
        "print(f'Общее число элементарных исходов для первого ящика: n1 = {n1}\\n'\n",
        "f'Общее число элементарных исходов для второго ящика: n2 = {n2}')"
      ],
      "metadata": {
        "colab": {
          "base_uri": "https://localhost:8080/"
        },
        "id": "WJ3dsWl0_Ljs",
        "outputId": "4f8eb199-0c21-4741-9b12-db3d7fed4c13"
      },
      "execution_count": 11,
      "outputs": [
        {
          "output_type": "stream",
          "name": "stdout",
          "text": [
            "Общее число элементарных исходов для первого ящика: n1 = 45\n",
            "Общее число элементарных исходов для второго ящика: n2 = 55\n"
          ]
        }
      ]
    },
    {
      "cell_type": "markdown",
      "source": [
        "Для выполнения первого условия необходимо одновременное наступление двух событий:\n",
        "событие \n",
        "А-из первого ящика извлекли 2 белых мяча,\n",
        "событие \n",
        "В-из второго ящика извлекли 2 белых мяча.\n",
        "Для события А\n",
        " число благоприятных элементарных исходов (m1) будет равно количеству сочетаний по 2 из 7\n",
        "\n",
        "Для события В\n",
        " число благоприятных элементарных исходов (m2) будет равно количеству сочетаний по 2 из 9\n",
        "\n"
      ],
      "metadata": {
        "id": "DgLORxqr_YSf"
      }
    },
    {
      "cell_type": "code",
      "source": [
        "m1=combinations(7,2)\n",
        "m2=combinations(9,2)\n",
        "print(f'Число благоприятных элементарных исходов для события А: m1 = {combinations(7,2)}\\n'\n",
        "      f'Число благоприятных элементарных исходов для события В: m2 = {combinations(9,2)}'\n",
        "     )"
      ],
      "metadata": {
        "colab": {
          "base_uri": "https://localhost:8080/"
        },
        "id": "FqeAMJoYAMMs",
        "outputId": "6c485779-8de0-4a3e-9626-812b76052c3e"
      },
      "execution_count": 9,
      "outputs": [
        {
          "output_type": "stream",
          "name": "stdout",
          "text": [
            "Число благоприятных элементарных исходов для события А: m1 = 21\n",
            "Число благоприятных элементарных исходов для события В: m2 = 36\n"
          ]
        }
      ]
    },
    {
      "cell_type": "markdown",
      "source": [
        "Вероятность одновременного наступления 2 событий будет рассчитываться как  произведение вероятностей А и В"
      ],
      "metadata": {
        "id": "6tZPIazZAZRN"
      }
    },
    {
      "cell_type": "code",
      "source": [
        "print(f'Вероятность наступления события А, Р(А) = {m1/n1: .4f}\\n'\n",
        "      f'Вероятность наступления события В, Р(В) = {m2/n2: .4f}\\n'\n",
        "      f'Вероятность одновременного наступления событий А и В, Р(А+В) = {(m1/n1)*(m2/n2): .4f}'\n",
        "     )"
      ],
      "metadata": {
        "colab": {
          "base_uri": "https://localhost:8080/"
        },
        "id": "4iQk9BGFAngV",
        "outputId": "f99677b4-460e-4489-d7ad-e6f19d5ec754"
      },
      "execution_count": 10,
      "outputs": [
        {
          "output_type": "stream",
          "name": "stdout",
          "text": [
            "Вероятность наступления события А, Р(А) =  0.4667\n",
            "Вероятность наступления события В, Р(В) =  0.6545\n",
            "Вероятность одновременного наступления событий А и В, Р(А+В) =  0.3055\n"
          ]
        }
      ]
    },
    {
      "cell_type": "markdown",
      "source": [
        "2 Какова вероятность того, что ровно два мяча белые? "
      ],
      "metadata": {
        "id": "NgCRQgo59tsf"
      }
    },
    {
      "cell_type": "markdown",
      "source": [
        "Этому варианту соответствует несколько комбинаций:\n",
        "\n",
        "События \n",
        "А-из первого ящика извлекли 2 белых мяча и \n",
        "В-из второго ящика извлекли 2 не белых мяча, или\n",
        "События \n",
        "C-из первого ящика извлекли 1 белый и 1 не белый мяч и \n",
        "D-из второго ящика извлекли 1 белый и 1 не белый мяч, или\n",
        "События \n",
        "E-из первого ящика извлекли 2 не белых мяча и \n",
        "F-из второго ящика извлекли 2 белых мяча"
      ],
      "metadata": {
        "id": "Nken_N_RBEeb"
      }
    },
    {
      "cell_type": "code",
      "source": [
        "m_A=combinations(7,2)\n",
        "m_B=combinations(2,2)\n",
        "m_C=combinations(7,1)*combinations(3,1)\n",
        "m_D=combinations(9,1)*combinations(2,1)\n",
        "m_E=combinations(3,2)\n",
        "m_F=combinations(9,2)\n",
        "print(f'Число благоприятных элементарных исходов для события А: m_A = {m_A}\\n'\n",
        "      f'Число благоприятных элементарных исходов для события B: m_B = {m_B}\\n'\n",
        "      f'Число благоприятных элементарных исходов для события C: m_C = {m_C}\\n'\n",
        "      f'Число благоприятных элементарных исходов для события D: m_D = {m_D}\\n'\n",
        "      f'Число благоприятных элементарных исходов для события E: m_E = {m_E}\\n'\n",
        "      f'Число благоприятных элементарных исходов для события F: m_F = {m_F}'  \n",
        "     )"
      ],
      "metadata": {
        "colab": {
          "base_uri": "https://localhost:8080/"
        },
        "id": "PmjjQeLEFW6L",
        "outputId": "35c0cf15-2b65-419b-a3ee-30fc8ec0c2d5"
      },
      "execution_count": 12,
      "outputs": [
        {
          "output_type": "stream",
          "name": "stdout",
          "text": [
            "Число благоприятных элементарных исходов для события А: m_A = 21\n",
            "Число благоприятных элементарных исходов для события B: m_B = 1\n",
            "Число благоприятных элементарных исходов для события C: m_C = 21\n",
            "Число благоприятных элементарных исходов для события D: m_D = 18\n",
            "Число благоприятных элементарных исходов для события E: m_E = 3\n",
            "Число благоприятных элементарных исходов для события F: m_F = 36\n"
          ]
        }
      ]
    },
    {
      "cell_type": "code",
      "source": [
        "P=(m_A/n1)*(m_B/n2)+(m_C/n1)*(m_D/n2)+(m_E/n1)*(m_F/n2)\n",
        "print(f'Вероятность того, что будут вытащены ровно 2 белых мяча Р = {P: .4f}')"
      ],
      "metadata": {
        "colab": {
          "base_uri": "https://localhost:8080/"
        },
        "id": "JVzow-E3Ffrn",
        "outputId": "8ff92ac5-2bfb-4cd8-8dc3-4c17be2b0e45"
      },
      "execution_count": 13,
      "outputs": [
        {
          "output_type": "stream",
          "name": "stdout",
          "text": [
            "Вероятность того, что будут вытащены ровно 2 белых мяча Р =  0.2048\n"
          ]
        }
      ]
    },
    {
      "cell_type": "markdown",
      "source": [
        " 3 Какова вероятность того, что хотя бы один мяч белый?"
      ],
      "metadata": {
        "id": "fSGMPs7C9vqM"
      }
    },
    {
      "cell_type": "markdown",
      "source": [
        "В этом случае удобнее рассмотреть событие \n",
        "-\"не было извлечено ни одного белого мяча\", которое вместе с заданным событием \n",
        "-\"был извлечен хотя бы 1 белый мяч\", составляют полную группу событий, по скольку в результате испытаний может произойти только либо событие А\n",
        ", либо событие -А, и поэтому: P(A)=1-P(-A)\n",
        "\n",
        "Для наступления события \n",
        "(-A) необходимо чтобы из первого и второго ящика не было вынуто ни одного белого мяча, число таких благоприятных исходов для первого ящика m1,\n",
        " а для второго m2\n",
        "\n"
      ],
      "metadata": {
        "id": "QNGFF7gpF5dn"
      }
    },
    {
      "cell_type": "code",
      "source": [
        "m1=combinations(3,2)\n",
        "m2=combinations(2,2)\n",
        "print(f'Число благоприятных элементарных исходов для первого ящика: m1 = {combinations(3,2)}\\n'\n",
        "      f'Число благоприятных элементарных исходов для второго ящика: m2 = {combinations(2,2)}'\n",
        "     )"
      ],
      "metadata": {
        "colab": {
          "base_uri": "https://localhost:8080/"
        },
        "id": "krecrGLWGkjV",
        "outputId": "19821af8-5e9d-4cc4-e760-5c8079193f06"
      },
      "execution_count": 14,
      "outputs": [
        {
          "output_type": "stream",
          "name": "stdout",
          "text": [
            "Число благоприятных элементарных исходов для первого ящика: m1 = 3\n",
            "Число благоприятных элементарных исходов для второго ящика: m2 = 1\n"
          ]
        }
      ]
    },
    {
      "cell_type": "code",
      "source": [
        "print(f'Вероятность того, что не будет извлечено ни одного белого мяча Р(-А) = {(m1/n1)*(m2/n2): .4f}\\n'\n",
        "      f'Вероятность того, что будет извлечен хотя бы один белый мяч Р(А) = 1 - Р(-А) = {1-(m1/n1)*(m2/n2): .4f}'\n",
        "     )"
      ],
      "metadata": {
        "colab": {
          "base_uri": "https://localhost:8080/"
        },
        "id": "Nx6wB1jrG25M",
        "outputId": "81b7cffe-cf60-459d-9237-8af4d55a2b9e"
      },
      "execution_count": 15,
      "outputs": [
        {
          "output_type": "stream",
          "name": "stdout",
          "text": [
            "Вероятность того, что не будет извлечено ни одного белого мяча Р(-А) =  0.0012\n",
            "Вероятность того, что будет извлечен хотя бы один белый мяч Р(А) = 1 - Р(-А) =  0.9988\n"
          ]
        }
      ]
    }
  ]
}